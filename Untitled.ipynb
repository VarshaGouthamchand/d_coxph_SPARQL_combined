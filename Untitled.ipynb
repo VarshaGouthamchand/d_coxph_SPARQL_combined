{
 "cells": [
  {
   "cell_type": "code",
   "execution_count": 1,
   "metadata": {},
   "outputs": [
    {
     "name": "stderr",
     "output_type": "stream",
     "text": [
      "also installing the dependency 'rlang'\n",
      "\n"
     ]
    },
    {
     "name": "stdout",
     "output_type": "stream",
     "text": [
      "package 'rlang' successfully unpacked and MD5 sums checked\n",
      "package 'abind' successfully unpacked and MD5 sums checked\n",
      "package 'dplyr' successfully unpacked and MD5 sums checked\n",
      "package 'httr' successfully unpacked and MD5 sums checked\n",
      "package 'rjson' successfully unpacked and MD5 sums checked\n",
      "\n",
      "The downloaded binary packages are in\n",
      "\tC:\\Users\\ananya.choudhury\\AppData\\Local\\Temp\\RtmpA3UiFA\\downloaded_packages\n"
     ]
    }
   ],
   "source": [
    "packages <- c(\n",
    "  \"abind\",\n",
    "  \"dplyr\",\n",
    "  \"httr\",\n",
    "  \"rjson\"\n",
    ")\n",
    "\n",
    "install.packages(packages)"
   ]
  },
  {
   "cell_type": "code",
   "execution_count": 3,
   "metadata": {},
   "outputs": [
    {
     "name": "stdout",
     "output_type": "stream",
     "text": [
      "Using '' as database \n"
     ]
    },
    {
     "name": "stderr",
     "output_type": "stream",
     "text": [
      "Warning message in file(file, \"rt\"):\n",
      "\"file(\"\") only supports open = \"w+\" and open = \"w+b\": using the former\""
     ]
    },
    {
     "ename": "ERROR",
     "evalue": "Error in read.table(file = file, header = header, sep = sep, quote = quote, : no lines available in input\n",
     "output_type": "error",
     "traceback": [
      "Error in read.table(file = file, header = header, sep = sep, quote = quote, : no lines available in input\nTraceback:\n",
      "1. source(\"dl_coxph.R\")",
      "2. withVisible(eval(ei, envir))",
      "3. eval(ei, envir)",
      "4. eval(ei, envir)",
      "5. docker.wrapper()",
      "6. read.csv(database_uri)",
      "7. read.table(file = file, header = header, sep = sep, quote = quote, \n .     dec = dec, fill = fill, comment.char = comment.char, ...)",
      "8. stop(\"no lines available in input\")"
     ]
    }
   ],
   "source": [
    "source(\"Client.R\")\n",
    "source(\"dl_coxph.R\")"
   ]
  },
  {
   "cell_type": "code",
   "execution_count": 21,
   "metadata": {},
   "outputs": [
    {
     "name": "stdout",
     "output_type": "stream",
     "text": [
      "Using '' as database \n"
     ]
    },
    {
     "name": "stderr",
     "output_type": "stream",
     "text": [
      "Warning message in file(file, \"rt\"):\n",
      "\"file(\"\") only supports open = \"w+\" and open = \"w+b\": using the former\""
     ]
    },
    {
     "ename": "ERROR",
     "evalue": "Error in read.table(file = file, header = header, sep = sep, quote = quote, : no lines available in input\n",
     "output_type": "error",
     "traceback": [
      "Error in read.table(file = file, header = header, sep = sep, quote = quote, : no lines available in input\nTraceback:\n",
      "1. source(\"dl_coxph.R\")",
      "2. withVisible(eval(ei, envir))",
      "3. eval(ei, envir)",
      "4. eval(ei, envir)",
      "5. docker.wrapper()",
      "6. read.csv(database_uri)",
      "7. read.table(file = file, header = header, sep = sep, quote = quote, \n .     dec = dec, fill = fill, comment.char = comment.char, ...)",
      "8. stop(\"no lines available in input\")"
     ]
    }
   ],
   "source": [
    "source(\"Client.R\")\n",
    "source(\"dl_coxph.R\")\n",
    "client <- Client(\"http://137.117.138.98:5000/api\", \"johan01\", \"password\", 5)\n",
    "client$authenticate()"
   ]
  },
  {
   "cell_type": "code",
   "execution_count": null,
   "metadata": {},
   "outputs": [],
   "source": []
  }
 ],
 "metadata": {
  "kernelspec": {
   "display_name": "R",
   "language": "R",
   "name": "ir"
  },
  "language_info": {
   "codemirror_mode": "r",
   "file_extension": ".r",
   "mimetype": "text/x-r-source",
   "name": "R",
   "pygments_lexer": "r",
   "version": "3.6.1"
  }
 },
 "nbformat": 4,
 "nbformat_minor": 2
}
